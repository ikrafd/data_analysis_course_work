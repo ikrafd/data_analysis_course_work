{
 "cells": [
  {
   "cell_type": "code",
   "execution_count": 11,
   "id": "ef80c235",
   "metadata": {},
   "outputs": [],
   "source": [
    "import csv\n",
    "\n",
    "input_file = 'product.csv'\n",
    "output_file = 'your_output_file.csv'\n",
    "\n",
    "with open(input_file, 'r', encoding='utf-8') as infile, open(output_file, 'w', encoding='utf-8') as outfile:\n",
    "    for line in infile:\n",
    "        parts = line.split(',')\n",
    "        \n",
    "        if len(parts) <= 9:\n",
    "            outfile.write(line)\n",
    "        else:\n",
    "            new_line = ','.join(parts[:10]) + ''.join(parts[10:])\n",
    "\n",
    "            outfile.write(new_line)"
   ]
  },
  {
   "cell_type": "code",
   "execution_count": 14,
   "id": "de1fe553",
   "metadata": {},
   "outputs": [],
   "source": [
    "input_file = \"your_output_file.csv\"\n",
    "output_file = \"output_file.csv\"\n",
    "\n",
    "with open(input_file, 'r', encoding='utf-8') as infile, open(output_file, 'w', encoding='utf-8') as outfile:\n",
    "    for line in infile:\n",
    "        modified_line = line.replace('\"', '')\n",
    "        outfile.write(modified_line)"
   ]
  },
  {
   "cell_type": "code",
   "execution_count": 21,
   "id": "b5f912f6",
   "metadata": {},
   "outputs": [],
   "source": []
  },
  {
   "cell_type": "code",
   "execution_count": null,
   "id": "a7a181d9",
   "metadata": {},
   "outputs": [],
   "source": []
  }
 ],
 "metadata": {
  "kernelspec": {
   "display_name": "Python 3 (ipykernel)",
   "language": "python",
   "name": "python3"
  },
  "language_info": {
   "codemirror_mode": {
    "name": "ipython",
    "version": 3
   },
   "file_extension": ".py",
   "mimetype": "text/x-python",
   "name": "python",
   "nbconvert_exporter": "python",
   "pygments_lexer": "ipython3",
   "version": "3.10.9"
  }
 },
 "nbformat": 4,
 "nbformat_minor": 5
}
